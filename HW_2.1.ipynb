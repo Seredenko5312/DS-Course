{
 "cells": [
  {
   "cell_type": "markdown",
   "metadata": {},
   "source": [
    "### Завдання 1"
   ]
  },
  {
   "cell_type": "code",
   "execution_count": 1,
   "metadata": {},
   "outputs": [
    {
     "name": "stdout",
     "output_type": "stream",
     "text": [
      "5\n",
      "10\n",
      "Висота трикутника -  25.0\n"
     ]
    }
   ],
   "source": [
    "a = int(input())\n",
    "h = int(input())\n",
    "print('Висота трикутника - ', 0.5 * a * h)"
   ]
  },
  {
   "cell_type": "markdown",
   "metadata": {},
   "source": [
    "### Завдання 2"
   ]
  },
  {
   "cell_type": "code",
   "execution_count": 1,
   "metadata": {},
   "outputs": [
    {
     "name": "stdout",
     "output_type": "stream",
     "text": [
      "123\n",
      "1\n",
      "2\n",
      "3\n",
      "Сумма -  6\n"
     ]
    }
   ],
   "source": [
    "# 1 спосіб\n",
    "N = input()\n",
    "print(N[0])\n",
    "print(N[1])\n",
    "print(N[2])\n",
    "print('Сумма - ', int(N[0]) + int(N[1]) + int(N[2]))"
   ]
  },
  {
   "cell_type": "code",
   "execution_count": 2,
   "metadata": {},
   "outputs": [
    {
     "name": "stdout",
     "output_type": "stream",
     "text": [
      "123\n",
      "1\n",
      "2\n",
      "3\n",
      "6\n"
     ]
    }
   ],
   "source": [
    "# 2 спосіб\n",
    "N = int(input())\n",
    "print(N // 100)\n",
    "print(N // 10 % 10)\n",
    "print(N % 10)\n",
    "print(N // 100 + N // 10 % 10 + N % 10)"
   ]
  },
  {
   "cell_type": "markdown",
   "metadata": {},
   "source": [
    "### Завдання 3"
   ]
  },
  {
   "cell_type": "code",
   "execution_count": 3,
   "metadata": {},
   "outputs": [
    {
     "name": "stdout",
     "output_type": "stream",
     "text": [
      "['My', 'favourite', 'tutor', 'in', 'academy', 'is', 'Ihor']\n",
      "Кількість слів у реченні -  7\n",
      "My Ihor\n"
     ]
    }
   ],
   "source": [
    "sentence = 'My favourite tutor in academy is Ihor'\n",
    "my_list = sentence.split()\n",
    "print(my_list)\n",
    "print('Кількість слів у реченні - ', len(my_list))\n",
    "print(my_list[0], my_list[-1])"
   ]
  },
  {
   "cell_type": "markdown",
   "metadata": {},
   "source": [
    "### Завдання 4"
   ]
  },
  {
   "cell_type": "code",
   "execution_count": 8,
   "metadata": {},
   "outputs": [
    {
     "name": "stdout",
     "output_type": "stream",
     "text": [
      "1.2\n",
      "1.0\n"
     ]
    }
   ],
   "source": [
    "x = float(input())\n",
    "import math\n",
    "print((math.sin(x)) ** 2 + (math.cos(x)) ** 2)"
   ]
  },
  {
   "cell_type": "markdown",
   "metadata": {},
   "source": [
    "### Завдання 5"
   ]
  },
  {
   "cell_type": "code",
   "execution_count": 11,
   "metadata": {},
   "outputs": [
    {
     "name": "stdout",
     "output_type": "stream",
     "text": [
      "1\n",
      "0\n",
      "-1\n",
      "Перший корінь - -1, Другий - 1\n"
     ]
    }
   ],
   "source": [
    "import cmath\n",
    "import math\n",
    "a = float(input())\n",
    "b = float(input())\n",
    "c = float(input())\n",
    "D = b ** 2 - 4 * a * c\n",
    "if D >= 0:\n",
    "    x1 = (-b - math.sqrt(D)) / (2 * a)\n",
    "    x2 = (-b + math.sqrt(D)) / (2 * a)\n",
    "    print(f'Перший корінь - {int(x1)}, Другий - {int(x2)}')\n",
    "else:\n",
    "    x1 = (-b - cmath.sqrt(D)) / (2 * a)\n",
    "    x2 = (-b + cmath.sqrt(D)) / (2 * a)\n",
    "    print(f'Перший корінь - {x1}, Другий - {x2}')\n",
    "    "
   ]
  },
  {
   "cell_type": "markdown",
   "metadata": {},
   "source": [
    "### Завдання 6"
   ]
  },
  {
   "cell_type": "code",
   "execution_count": 12,
   "metadata": {},
   "outputs": [
    {
     "name": "stdout",
     "output_type": "stream",
     "text": [
      "Saturn\n",
      "7894512\n",
      "Діаметр планети \"Saturn\" дорівнює 7894512\n"
     ]
    }
   ],
   "source": [
    "Planet = input()\n",
    "Diament = float(input())\n",
    "print(f'''Діаметр планети \"{Planet}\" дорівнює {int(Diament)}''')"
   ]
  }
 ],
 "metadata": {
  "kernelspec": {
   "display_name": "Python 3",
   "language": "python",
   "name": "python3"
  },
  "language_info": {
   "codemirror_mode": {
    "name": "ipython",
    "version": 3
   },
   "file_extension": ".py",
   "mimetype": "text/x-python",
   "name": "python",
   "nbconvert_exporter": "python",
   "pygments_lexer": "ipython3",
   "version": "3.8.3"
  }
 },
 "nbformat": 4,
 "nbformat_minor": 4
}
