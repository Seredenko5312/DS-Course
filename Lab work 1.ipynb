{
 "cells": [
  {
   "cell_type": "markdown",
   "metadata": {},
   "source": [
    "# Завдання 3"
   ]
  },
  {
   "cell_type": "markdown",
   "metadata": {},
   "source": [
    "# 1. Markdown cells\n",
    "\n",
    "* Hi! Its Main Academy?\n",
    "* All HTML tabs are supported!\n",
    "* Моя сторінка на [лінкедін](www.linkedin.com/in/ivan--seredenko)"
   ]
  },
  {
   "cell_type": "markdown",
   "metadata": {},
   "source": [
    "# This is Heading1\n",
    "\n",
    "## This is Heading2\n",
    "\n",
    "some grey colored text:\n",
    "\n",
    "> This is where we can bring quotes and present them nicely\n",
    "\n",
    "And this is the paragraph about something important. Even math:\n",
    "\\begin{equation}\n",
    "y_{sub} = \\sqrt{(x_{sub})}\n",
    "\\end{equation}\n",
    "\n",
    "Or python code example:  \n",
    "```python\n",
    "import math\n",
    "def foo():\n",
    "    return \"foo\"```"
   ]
  },
  {
   "cell_type": "markdown",
   "metadata": {},
   "source": [
    "# Завдання 4"
   ]
  },
  {
   "cell_type": "markdown",
   "metadata": {},
   "source": [
    "Here is the sample mean:  \n",
    "\\begin{equation}\n",
    "\\bar y = \\frac{1}{n}\\sum \\limits_{i = 1}^{n} y_i\n",
    "\\end{equation}  \n",
    "Here is the sample variance:\n",
    "\\begin{equation}\n",
    "\\sigma^2 = \\frac{\\sum \\limits_{i = 1}^{n} (y_i - \\bar y)^2}{n - 1}\n",
    "\\end{equation}  \n",
    "Here is the sample standart deviation: \n",
    "\\begin{equation}\n",
    "\\sigma = \\sqrt{\\frac{\\sum \\limits_{i = 1}^{n} (y_i - \\bar y)^2}{n - 1}}\n",
    "\\end{equation}"
   ]
  }
 ],
 "metadata": {
  "kernelspec": {
   "display_name": "Python 3",
   "language": "python",
   "name": "python3"
  },
  "language_info": {
   "codemirror_mode": {
    "name": "ipython",
    "version": 3
   },
   "file_extension": ".py",
   "mimetype": "text/x-python",
   "name": "python",
   "nbconvert_exporter": "python",
   "pygments_lexer": "ipython3",
   "version": "3.8.3"
  }
 },
 "nbformat": 4,
 "nbformat_minor": 4
}
