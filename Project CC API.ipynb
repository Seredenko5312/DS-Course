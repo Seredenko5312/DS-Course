{
 "cells": [
  {
   "cell_type": "code",
   "execution_count": 46,
   "metadata": {},
   "outputs": [],
   "source": [
    "import sqlite3\n",
    "\n",
    "conn = sqlite3.connect('CC.db')\n",
    "curs = conn.cursor()\n",
    "\n",
    "sql_text = '''create table clients\n",
    "(id integer primary key autoincrement,\n",
    "name varchar(100),\n",
    "phone varchar(100),\n",
    "birthday date);\n",
    "\n",
    "create table car\n",
    "(id integer primary key autoincrement,\n",
    "year integer,\n",
    "type varchar(20),\n",
    "client_id integer not null,\n",
    "foreign key (client_id)\n",
    "references clients(id));\n",
    "\n",
    "create table orders\n",
    "(id integer primary key autoincrement,\n",
    "order_date date,\n",
    "car_id integer not null,\n",
    "box integer,\n",
    "price float,\n",
    "status varhar(20),\n",
    "foreign key (car_id)\n",
    "references car(id));'''\n",
    "\n",
    "curs.executescript(sql_text)\n",
    "conn.commit()"
   ]
  },
  {
   "cell_type": "code",
   "execution_count": 55,
   "metadata": {},
   "outputs": [
    {
     "name": "stdout",
     "output_type": "stream",
     "text": [
      "Введите имя клиента : Sasha\n",
      "Введите номер : 98\n",
      "Введите дату рождения в формате yyyy-mm-dd : 2020-02-01\n"
     ]
    }
   ],
   "source": [
    "from datetime import datetime\n",
    "import sqlite3\n",
    "name = input('Введите имя клиента : ')\n",
    "while not name.isalpha():\n",
    "    name = input('Попробуйте еще раз. Имя должно содержать только буквы : ')\n",
    "else:\n",
    "    pass\n",
    "    \n",
    "\n",
    "phone = input('Введите номер : ')\n",
    "while not phone.isdigit():\n",
    "    phone = input('Попробуйте еще раз. Номер должен содержать только цифры : ')\n",
    "else:\n",
    "    pass\n",
    "\n",
    "while True:\n",
    "    try:    \n",
    "        birthday = datetime.strptime(input('Введите дату рождения в формате yyyy-mm-dd : '), '%Y-%m-%d')\n",
    "        break\n",
    "    except:\n",
    "        print('Попробуйте еще раз. Дата дролжна быть в формате yyyy-mm-dd')\n",
    "\n",
    "try:\n",
    "    conn = sqlite3.connect('CC.db')\n",
    "    curs = conn.cursor()\n",
    "    sql_text = '''insert into clients (name, phone, birthday) values (?, ?, ?)'''\n",
    "    curs.execute(sql_text, (name, phone, birthday))\n",
    "    conn.commit()\n",
    "    conn.close()\n",
    "except Exception as e:\n",
    "    print(e)\n",
    "    conn.close()"
   ]
  },
  {
   "cell_type": "code",
   "execution_count": 58,
   "metadata": {},
   "outputs": [
    {
     "name": "stdout",
     "output_type": "stream",
     "text": [
      "Введите год машины : 2014\n",
      "Введите тип машины (0 - легковая, 1 - грузовая): 1\n",
      "1 ---- Ivan\n",
      "2 ---- Dima\n",
      "3 ---- Ihor\n",
      "4 ---- Sasha\n",
      "Введите id клиента: 2\n"
     ]
    }
   ],
   "source": [
    "year = input('Введите год машины : ')\n",
    "while not year.isdigit():\n",
    "    year = input('Попробуйте еще раз. Год выпуска доложен содеражть только цифры: ')\n",
    "else:\n",
    "    pass\n",
    "\n",
    "type_car = input('Введите тип машины (0 - легковая, 1 - грузовая): ')\n",
    "while type_car not in ['0', '1']:\n",
    "    type_car = input('Попробуйте еще раз. Тип может быть только 0 или 1: ')\n",
    "else:\n",
    "    pass\n",
    "type_car = int(type_car)\n",
    "\n",
    "conn = sqlite3.connect('CC.db')\n",
    "curs = conn.cursor()\n",
    "curs.execute('''select id, name from clients''')\n",
    "name_id = []\n",
    "for i in curs.fetchall():\n",
    "    print(i[0], '----', i[1])\n",
    "    name_id.append(i[0])\n",
    "conn.close()\n",
    "\n",
    "client_id = input(\"Введите id клиента: \")\n",
    "while not (client_id.isdigit() and int(client_id) in name_id):\n",
    "    client_id = input('Id клиента должно быть целым числом из списка. Введите id клиента: ')\n",
    "client_id = int(client_id)\n",
    "\n",
    "try:\n",
    "    conn = sqlite3.connect('CC.db')\n",
    "    curs = conn.cursor()\n",
    "    curs.execute('insert into car (year, type, client_id) values(?, ?, ?)', (year, type_car, client_id))\n",
    "    conn.commit()\n",
    "    conn.close()\n",
    "except Exception as e:\n",
    "    print(e)\n",
    "    conn.close()"
   ]
  },
  {
   "cell_type": "code",
   "execution_count": 63,
   "metadata": {},
   "outputs": [
    {
     "name": "stdout",
     "output_type": "stream",
     "text": [
      "1\n",
      "2\n",
      "3\n",
      "4\n",
      "5\n",
      "Введите id машины из указанных ниже: 4\n",
      "Введите цену услуги : 97\n"
     ]
    }
   ],
   "source": [
    "from datetime import datetime\n",
    "import sqlite3\n",
    "order_date = datetime.now()\n",
    "\n",
    "conn = sqlite3.connect('CC.db')\n",
    "curs = conn.cursor()\n",
    "curs.execute('''select id from car''')\n",
    "id_list = []\n",
    "for i in curs.fetchall():\n",
    "    id_list.append(i)\n",
    "    print(*i)\n",
    "conn.close()\n",
    "\n",
    "car_id = input('Введите id машины из указанных ниже: ')\n",
    "while not (car_id.isdigit() and tuple([int(car_id)]) in id_list):\n",
    "    car_id = input('Id машины должно быть целым числом из списка. Введите id машины: ')\n",
    "car_id = int(car_id)            \n",
    "\n",
    "while True:\n",
    "    try:\n",
    "        price = float(input('Введите цену услуги : '))\n",
    "        break\n",
    "    except:\n",
    "        print('Попробйте еще раз. Введите число: ')\n",
    "status = 'create'\n",
    "\n",
    "try:\n",
    "    conn = sqlite3.connect('CC.db')\n",
    "    curs = conn.cursor()\n",
    "    sql_text = '''insert into orders (order_date, car_id, price, status) values (?, ?, ?, ?)'''\n",
    "    curs.execute(sql_text, (order_date, car_id, price, status))\n",
    "    conn.commit()\n",
    "    conn.close()\n",
    "except Exception as e:\n",
    "    print(e)\n",
    "    conn.close()"
   ]
  },
  {
   "cell_type": "code",
   "execution_count": null,
   "metadata": {},
   "outputs": [
    {
     "name": "stdout",
     "output_type": "stream",
     "text": [
      " * Serving Flask app \"__main__\" (lazy loading)\n",
      " * Environment: production\n",
      "   WARNING: This is a development server. Do not use it in a production deployment.\n",
      "   Use a production WSGI server instead.\n",
      " * Debug mode: off\n"
     ]
    },
    {
     "name": "stderr",
     "output_type": "stream",
     "text": [
      " * Running on http://127.0.0.1:5000/ (Press CTRL+C to quit)\n",
      "127.0.0.1 - - [17/Sep/2020 15:50:48] \"\u001b[37mGET / HTTP/1.1\u001b[0m\" 200 -\n",
      "127.0.0.1 - - [17/Sep/2020 15:50:53] \"\u001b[37mGET /orders HTTP/1.1\u001b[0m\" 200 -\n",
      "127.0.0.1 - - [17/Sep/2020 15:51:01] \"\u001b[37mGET /clients HTTP/1.1\u001b[0m\" 200 -\n",
      "127.0.0.1 - - [17/Sep/2020 15:54:17] \"\u001b[37mGET / HTTP/1.1\u001b[0m\" 200 -\n",
      "127.0.0.1 - - [17/Sep/2020 15:54:52] \"\u001b[37mGET /orders HTTP/1.1\u001b[0m\" 200 -\n",
      "127.0.0.1 - - [17/Sep/2020 15:54:58] \"\u001b[37mGET /orders HTTP/1.1\u001b[0m\" 200 -\n"
     ]
    }
   ],
   "source": [
    "from flask import Flask, jsonify\n",
    "app = Flask(__name__)\n",
    "\n",
    "@app.route('/')\n",
    "def index():\n",
    "    return '''My CC Service:\n",
    "    use /orders to see list orders of the CC service; \n",
    "    use /clients to see clients of the CC service'''\n",
    "\n",
    "@app.route('/orders')\n",
    "def orders():\n",
    "    conn = sqlite3.connect('CC.db')\n",
    "    curs = conn.cursor()\n",
    "    curs.execute('select * from orders')\n",
    "    list_with_result =  curs.fetchall()\n",
    "    conn.close\n",
    "    return jsonify(list_with_result)\n",
    "\n",
    "@app.route('/clients')\n",
    "def clients():\n",
    "    conn = sqlite3.connect('CC.db')\n",
    "    curs = conn.cursor()\n",
    "    curs.execute('select * from clients')\n",
    "    list_with_result =  curs.fetchall()\n",
    "    conn.close\n",
    "    return jsonify(list_with_result)\n",
    "\n",
    "app.run()"
   ]
  }
 ],
 "metadata": {
  "kernelspec": {
   "display_name": "Python 3",
   "language": "python",
   "name": "python3"
  },
  "language_info": {
   "codemirror_mode": {
    "name": "ipython",
    "version": 3
   },
   "file_extension": ".py",
   "mimetype": "text/x-python",
   "name": "python",
   "nbconvert_exporter": "python",
   "pygments_lexer": "ipython3",
   "version": "3.8.3"
  }
 },
 "nbformat": 4,
 "nbformat_minor": 4
}
